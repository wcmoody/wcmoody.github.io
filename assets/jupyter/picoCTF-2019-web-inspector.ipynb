{
 "cells": [
  {
   "cell_type": "markdown",
   "metadata": {},
   "source": [
    "## picoCTF 2019 Web Challenges\n",
    "\n",
    "### Insp3ct0r - Points: 50\n",
    "\n",
    "Kishor Balan tipped us off that the following code may need inspection: https://2019shell1.picoctf.com/problem/63975/ or http://2019shell1.picoctf.com:63975"
   ]
  },
  {
   "cell_type": "markdown",
   "metadata": {},
   "source": [
    "First we will import the functionality we will need for this challenge. Requests will allow us to easily talk to the webserver and BeautifulSoup will allow us to work with the HTML code that is the webserver provides us."
   ]
  },
  {
   "cell_type": "code",
   "execution_count": 1,
   "metadata": {},
   "outputs": [],
   "source": [
    "import requests\n",
    "from bs4 import BeautifulSoup as bs\n",
    "from bs4 import Comment"
   ]
  },
  {
   "cell_type": "markdown",
   "metadata": {},
   "source": [
    "We will create a session object, get our URL for the challenge, initialize an empty flag, and get the main page."
   ]
  },
  {
   "cell_type": "code",
   "execution_count": 2,
   "metadata": {},
   "outputs": [],
   "source": [
    "s = requests.session()\n",
    "url = 'https://2019shell1.picoctf.com/problem/63975/'\n",
    "flag = \"\"\n",
    "r = s.get(url)"
   ]
  },
  {
   "cell_type": "markdown",
   "metadata": {},
   "source": [
    "Now that we have the base webpage's source code in our request object `r`, we will build see if there is a flag in our source."
   ]
  },
  {
   "cell_type": "code",
   "execution_count": 3,
   "metadata": {},
   "outputs": [
    {
     "data": {
      "text/plain": [
       "['\\t<!-- Html is neat. Anyways have 1/3 of the flag: picoCTF{tru3_d3 -->']"
      ]
     },
     "execution_count": 3,
     "metadata": {},
     "output_type": "execute_result"
    }
   ],
   "source": [
    "[line for line in r.text.split('\\n') if 'flag' in line]"
   ]
  },
  {
   "cell_type": "markdown",
   "metadata": {},
   "source": [
    "So we have a comment with that tells us the flag will be in parts. Seems that we have part 1. Lets creat a regular expression based on this, that may help us find the rest of the pieces."
   ]
  },
  {
   "cell_type": "code",
   "execution_count": 4,
   "metadata": {},
   "outputs": [],
   "source": [
    "from re import compile\n",
    "patt = compile('flag: ([\\w{}_?]*) ')"
   ]
  },
  {
   "cell_type": "markdown",
   "metadata": {},
   "source": [
    "We have the source code for the site, lets build a BeautifulSoup object so we can grab that comment."
   ]
  },
  {
   "cell_type": "code",
   "execution_count": 5,
   "metadata": {},
   "outputs": [],
   "source": [
    "soup = bs(r.text,features=\"html.parser\")"
   ]
  },
  {
   "cell_type": "markdown",
   "metadata": {},
   "source": [
    "Since our regular expression has the a capture group defined, we will just grab that chunk from our comments and add them to our flag."
   ]
  },
  {
   "cell_type": "code",
   "execution_count": 6,
   "metadata": {},
   "outputs": [],
   "source": [
    "m = patt.findall(r.text)\n",
    "if m:\n",
    "    flag += m[0]"
   ]
  },
  {
   "cell_type": "markdown",
   "metadata": {},
   "source": [
    "We will now grab all the hyperlinks from our `soup` object, and see if we have any pieces of the flag there."
   ]
  },
  {
   "cell_type": "code",
   "execution_count": 7,
   "metadata": {},
   "outputs": [
    {
     "data": {
      "text/plain": [
       "[\"/* You need CSS to make pretty pages. Here's part 2/3 of the flag: t3ct1ve_0r_ju5t */\"]"
      ]
     },
     "execution_count": 7,
     "metadata": {},
     "output_type": "execute_result"
    }
   ],
   "source": [
    "htmls = \"\"\n",
    "for link in soup.findAll('link'):\n",
    "    r = s.get(url + link['href'])\n",
    "    htmls += r.text\n",
    "[line for line in htmls.split('\\n') if 'flag' in line]"
   ]
  },
  {
   "cell_type": "markdown",
   "metadata": {},
   "source": [
    "Now we will grab that piece of the flag and add it to `flag` variable."
   ]
  },
  {
   "cell_type": "code",
   "execution_count": 8,
   "metadata": {},
   "outputs": [],
   "source": [
    "for link in soup.findAll('link'):\n",
    "    r = s.get(url + link['href'])\n",
    "    m = patt.findall(r.text)\n",
    "    if m:\n",
    "        flag += m[0]"
   ]
  },
  {
   "cell_type": "markdown",
   "metadata": {},
   "source": [
    "Another place to look are any javascript files that might exist. So we will check anything from a `script` tag."
   ]
  },
  {
   "cell_type": "code",
   "execution_count": 9,
   "metadata": {},
   "outputs": [
    {
     "data": {
      "text/plain": [
       "['/* Javascript sure is neat. Anyways part 3/3 of the flag: _lucky?d3db9182} */']"
      ]
     },
     "execution_count": 9,
     "metadata": {},
     "output_type": "execute_result"
    }
   ],
   "source": [
    "js = \"\"\n",
    "for script in soup.findAll('script'):\n",
    "    r = s.get(url + script['src'])\n",
    "    js += r.text\n",
    "[line for line in js.split('\\n') if 'flag' in line]"
   ]
  },
  {
   "cell_type": "markdown",
   "metadata": {},
   "source": [
    "Now we will grab that final piece of the flag and append to our `flag` variable"
   ]
  },
  {
   "cell_type": "code",
   "execution_count": 10,
   "metadata": {},
   "outputs": [],
   "source": [
    "for script in soup.findAll('script'):\n",
    "    r = s.get(url + script['src'])\n",
    "    m2 = patt.findall(r.text)\n",
    "    if m2:\n",
    "        flag += m2[0]"
   ]
  },
  {
   "cell_type": "markdown",
   "metadata": {},
   "source": [
    "And now we can check out final flag. Looks good to me."
   ]
  },
  {
   "cell_type": "code",
   "execution_count": 11,
   "metadata": {},
   "outputs": [
    {
     "data": {
      "text/plain": [
       "'picoCTF{tru3_d3t3ct1ve_0r_ju5t_lucky?d3db9182}'"
      ]
     },
     "execution_count": 11,
     "metadata": {},
     "output_type": "execute_result"
    }
   ],
   "source": [
    "flag"
   ]
  }
 ],
 "metadata": {
  "kernelspec": {
   "display_name": "Python 3",
   "language": "python",
   "name": "python3"
  },
  "language_info": {
   "codemirror_mode": {
    "name": "ipython",
    "version": 3
   },
   "file_extension": ".py",
   "mimetype": "text/x-python",
   "name": "python",
   "nbconvert_exporter": "python",
   "pygments_lexer": "ipython3",
   "version": "3.7.4"
  }
 },
 "nbformat": 4,
 "nbformat_minor": 2
}
